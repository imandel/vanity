{
 "cells": [
  {
   "cell_type": "markdown",
   "metadata": {},
   "source": [
    "# Introduction"
   ]
  },
  {
   "cell_type": "code",
   "execution_count": 4,
   "metadata": {},
   "outputs": [
    {
     "data": {
      "text/html": [
       "<style>.container { width:100% !important; }</style>"
      ],
      "text/plain": [
       "<IPython.core.display.HTML object>"
      ]
     },
     "metadata": {},
     "output_type": "display_data"
    }
   ],
   "source": [
    "import vanity\n",
    "import pandas as pd\n",
    "from IPython.core.display import display, HTML\n",
    "display(HTML(\"<style>.container { width:100% !important; }</style>\"))"
   ]
  },
  {
   "cell_type": "code",
   "execution_count": 5,
   "metadata": {},
   "outputs": [],
   "source": [
    "# %pip install gdown\n",
    "# !gdown 'https://drive.google.com/uc?id=1HRo9onzy-snGAYjjfCcrl3e4MFImuODZ'\n",
    "# !unzip 'Archive.zip'"
   ]
  },
  {
   "cell_type": "code",
   "execution_count": 6,
   "metadata": {
    "scrolled": false
   },
   "outputs": [
    {
     "data": {
      "application/vnd.jupyter.widget-view+json": {
       "model_id": "fab4e11723a3451c9045cf99a80b636f",
       "version_major": 2,
       "version_minor": 0
      },
      "text/plain": [
       "MapView(author='testuser', gps='<?xml version=\"1.0\" encoding=\"UTF-8\"?>\\n<gpx xmlns:xsi=\"http://www.w3.org/2001…"
      ]
     },
     "metadata": {},
     "output_type": "display_data"
    }
   ],
   "source": [
    "w = vanity.MapView(src='./GMT20201216-141014_Interview-_640x360.mp4',\n",
    "                   tags = ['test', 'garbage', 'person', 'dog'],\n",
    "                   gps='16-Dec-2020-0945.gpx',\n",
    "                   author='testuser',\n",
    "                   transcript='./GMT20201216-141014_Interview-.transcript.vtt',\n",
    "#                    views = ['./GMT20201216-141014_Interview-_640x360.mp4', './GMT20201216-141014_Interview-_640x360.mp4']\n",
    "                  )\n",
    "w"
   ]
  },
  {
   "cell_type": "code",
   "execution_count": 8,
   "metadata": {},
   "outputs": [
    {
     "data": {
      "text/html": [
       "<div>\n",
       "<style scoped>\n",
       "    .dataframe tbody tr th:only-of-type {\n",
       "        vertical-align: middle;\n",
       "    }\n",
       "\n",
       "    .dataframe tbody tr th {\n",
       "        vertical-align: top;\n",
       "    }\n",
       "\n",
       "    .dataframe thead th {\n",
       "        text-align: right;\n",
       "    }\n",
       "</style>\n",
       "<table border=\"1\" class=\"dataframe\">\n",
       "  <thead>\n",
       "    <tr style=\"text-align: right;\">\n",
       "      <th></th>\n",
       "      <th>type</th>\n",
       "      <th>id</th>\n",
       "      <th>start</th>\n",
       "      <th>end</th>\n",
       "      <th>src</th>\n",
       "      <th>author</th>\n",
       "      <th>value</th>\n",
       "    </tr>\n",
       "  </thead>\n",
       "  <tbody>\n",
       "    <tr>\n",
       "      <th>0</th>\n",
       "      <td>comment</td>\n",
       "      <td>wavesurfer_f34q0r64r48</td>\n",
       "      <td>63.686018</td>\n",
       "      <td>152.705786</td>\n",
       "      <td>./GMT20201216-141014_Interview-_640x360.mp4</td>\n",
       "      <td>testuser</td>\n",
       "      <td>NaN</td>\n",
       "    </tr>\n",
       "    <tr>\n",
       "      <th>1</th>\n",
       "      <td>comment</td>\n",
       "      <td>wavesurfer_8696suempjo</td>\n",
       "      <td>218.720445</td>\n",
       "      <td>293.737104</td>\n",
       "      <td>./GMT20201216-141014_Interview-_640x360.mp4</td>\n",
       "      <td>testuser</td>\n",
       "      <td>NaN</td>\n",
       "    </tr>\n",
       "    <tr>\n",
       "      <th>2</th>\n",
       "      <td>comment</td>\n",
       "      <td>wavesurfer_dapmqep3om</td>\n",
       "      <td>379.756206</td>\n",
       "      <td>464.775086</td>\n",
       "      <td>./GMT20201216-141014_Interview-_640x360.mp4</td>\n",
       "      <td>testuser</td>\n",
       "      <td>NaN</td>\n",
       "    </tr>\n",
       "  </tbody>\n",
       "</table>\n",
       "</div>"
      ],
      "text/plain": [
       "      type                      id       start         end  \\\n",
       "0  comment  wavesurfer_f34q0r64r48   63.686018  152.705786   \n",
       "1  comment  wavesurfer_8696suempjo  218.720445  293.737104   \n",
       "2  comment   wavesurfer_dapmqep3om  379.756206  464.775086   \n",
       "\n",
       "                                           src    author  value  \n",
       "0  ./GMT20201216-141014_Interview-_640x360.mp4  testuser    NaN  \n",
       "1  ./GMT20201216-141014_Interview-_640x360.mp4  testuser    NaN  \n",
       "2  ./GMT20201216-141014_Interview-_640x360.mp4  testuser    NaN  "
      ]
     },
     "execution_count": 8,
     "metadata": {},
     "output_type": "execute_result"
    }
   ],
   "source": [
    "w.df"
   ]
  },
  {
   "cell_type": "code",
   "execution_count": null,
   "metadata": {},
   "outputs": [],
   "source": [
    "a.to_json('test_df.json', orient='records')"
   ]
  },
  {
   "cell_type": "code",
   "execution_count": null,
   "metadata": {},
   "outputs": [],
   "source": [
    "a"
   ]
  },
  {
   "cell_type": "code",
   "execution_count": null,
   "metadata": {},
   "outputs": [],
   "source": [
    "kp = {'id':int(random.random()*1000),\n",
    "      'start':'0',\n",
    "      'end':'10',\n",
    "      'type':'tag',\n",
    "      'value':'trash',\n",
    "      'author':'ilan',\n",
    "      'src': 'vid1'\n",
    "     }\n",
    "kp"
   ]
  },
  {
   "cell_type": "code",
   "execution_count": null,
   "metadata": {},
   "outputs": [],
   "source": [
    "d = [{'id':int(random.random()*1000),\n",
    "      'start':'0',\n",
    "      'end':'10',\n",
    "      'type':'tag',\n",
    "      'value':'trash',\n",
    "      'author':'ilan',\n",
    "      'src': 'vid1'\n",
    "     } for i in range(10)]"
   ]
  },
  {
   "cell_type": "code",
   "execution_count": null,
   "metadata": {},
   "outputs": [],
   "source": [
    "t = pd.DataFrame(d)"
   ]
  },
  {
   "cell_type": "code",
   "execution_count": null,
   "metadata": {},
   "outputs": [],
   "source": [
    "t"
   ]
  },
  {
   "cell_type": "code",
   "execution_count": null,
   "metadata": {},
   "outputs": [],
   "source": [
    "t.to_json(orient='records')"
   ]
  },
  {
   "cell_type": "code",
   "execution_count": null,
   "metadata": {},
   "outputs": [],
   "source": [
    "isinstance(t, pd.DataFrame)"
   ]
  },
  {
   "cell_type": "code",
   "execution_count": null,
   "metadata": {},
   "outputs": [],
   "source": [
    "pd.DataFrame(columns=['hi', 'bye'])"
   ]
  },
  {
   "cell_type": "code",
   "execution_count": null,
   "metadata": {},
   "outputs": [],
   "source": [
    "w.get_state()"
   ]
  },
  {
   "cell_type": "code",
   "execution_count": null,
   "metadata": {},
   "outputs": [],
   "source": []
  }
 ],
 "metadata": {
  "kernelspec": {
   "display_name": "Python 3",
   "language": "python",
   "name": "python3"
  },
  "language_info": {
   "codemirror_mode": {
    "name": "ipython",
    "version": 3
   },
   "file_extension": ".py",
   "mimetype": "text/x-python",
   "name": "python",
   "nbconvert_exporter": "python",
   "pygments_lexer": "ipython3",
   "version": "3.9.6"
  }
 },
 "nbformat": 4,
 "nbformat_minor": 4
}
