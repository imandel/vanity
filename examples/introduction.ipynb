{
 "cells": [
  {
   "cell_type": "markdown",
   "metadata": {},
   "source": [
    "# Introduction"
   ]
  },
  {
   "cell_type": "code",
   "execution_count": null,
   "metadata": {},
   "outputs": [],
   "source": [
    "import vanity\n",
    "import pandas as pd\n",
    "import ipywidgets as widgets\n",
    "from IPython.core.display import display, HTML\n",
    "display(HTML(\"<style>.container { width:100% !important; }</style>\"))"
   ]
  },
  {
   "cell_type": "code",
   "execution_count": null,
   "metadata": {},
   "outputs": [],
   "source": [
    "# %pip install gdown\n",
    "# !gdown 'https://drive.google.com/uc?id=1HRo9onzy-snGAYjjfCcrl3e4MFImuODZ'\n",
    "# !unzip 'Archive.zip'\n"
   ]
  },
  {
   "cell_type": "markdown",
   "metadata": {},
   "source": [
    "An example callback that adds new keypoints to a [google sheet](https://docs.google.com/spreadsheets/d/1134uPSipFAFBqFXxfjAC29mI9lZ3v2HBZcdOWmnZrVg/edit?usp=sharing)"
   ]
  },
  {
   "cell_type": "code",
   "execution_count": null,
   "metadata": {},
   "outputs": [],
   "source": [
    "import pygsheets\n",
    "# https://pygsheets.readthedocs.io/en/stable/authorization.html\n",
    "gc = pygsheets.authorize()\n",
    "\n",
    "sh = gc.open(\"callback demo\")\n",
    "def cb(change,*args, **kwargs):\n",
    "    rowcount = len(sh.sheet1.get_col(1, include_tailing_empty=False))\n",
    "    row = [x for x in change['new'] if x not in change['old']][0]\n",
    "    sh.sheet1.insert_rows(rowcount+1, values=list(row.values()))"
   ]
  },
  {
   "cell_type": "code",
   "execution_count": null,
   "metadata": {
    "scrolled": false
   },
   "outputs": [],
   "source": [
    "w = vanity.MapView(src='./GMT20201216-141014_Interview-_640x360.mp4',\n",
    "                   tags = ['test', 'garbage', 'person', 'dog'],\n",
    "                   gps={'lat':'lat', 'lng':'lng'},\n",
    "                   data=pd.read_csv('gps_samples/tidy_dataframe.csv'),\n",
    "                   transcript='./GMT20201216-141014_Interview-.transcript.vtt',\n",
    "                   update_callback=cb,\n",
    "                   author='testuser'\n",
    "#                     views = ['./GMT20201216-141014_Interview-_640x360.mp4', './GMT20201216-141014_Interview-_640x360.mp4']\n",
    "                  )\n",
    "w"
   ]
  },
  {
   "cell_type": "code",
   "execution_count": null,
   "metadata": {},
   "outputs": [],
   "source": [
    "w._keypoints"
   ]
  },
  {
   "cell_type": "code",
   "execution_count": null,
   "metadata": {},
   "outputs": [],
   "source": []
  }
 ],
 "metadata": {
  "kernelspec": {
   "display_name": "Python 3 (ipykernel)",
   "language": "python",
   "name": "python3"
  },
  "language_info": {
   "codemirror_mode": {
    "name": "ipython",
    "version": 3
   },
   "file_extension": ".py",
   "mimetype": "text/x-python",
   "name": "python",
   "nbconvert_exporter": "python",
   "pygments_lexer": "ipython3",
   "version": "3.9.6"
  }
 },
 "nbformat": 4,
 "nbformat_minor": 4
}
