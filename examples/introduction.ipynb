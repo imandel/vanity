{
 "cells": [
  {
   "cell_type": "markdown",
   "metadata": {},
   "source": [
    "# Introduction"
   ]
  },
  {
   "cell_type": "code",
   "execution_count": 69,
   "metadata": {},
   "outputs": [
    {
     "data": {
      "text/html": [
       "<style>.container { width:100% !important; }</style>"
      ],
      "text/plain": [
       "<IPython.core.display.HTML object>"
      ]
     },
     "metadata": {},
     "output_type": "display_data"
    }
   ],
   "source": [
    "import vanity\n",
    "import pandas as pd\n",
    "from IPython.core.display import display, HTML\n",
    "display(HTML(\"<style>.container { width:100% !important; }</style>\"))"
   ]
  },
  {
   "cell_type": "code",
   "execution_count": 70,
   "metadata": {
    "scrolled": false
   },
   "outputs": [
    {
     "data": {
      "application/vnd.jupyter.widget-view+json": {
       "model_id": "fd59cb1f23eb4e198d7bd66c04339e0a",
       "version_major": 2,
       "version_minor": 0
      },
      "text/plain": [
       "MapView(author='testuser', gps='<?xml version=\"1.0\" encoding=\"UTF-8\"?>\\n<gpx xmlns:xsi=\"http://www.w3.org/2001…"
      ]
     },
     "metadata": {},
     "output_type": "display_data"
    }
   ],
   "source": [
    "w = vanity.MapView(src='./GMT20201216-141014_Interview-_640x360.mp4',\n",
    "                   tags = ['test', 'garbage', 'person', 'dog'],\n",
    "                   gps='16-Dec-2020-0945.gpx',\n",
    "                   author='testuser',\n",
    "                   transcript='./GMT20201216-141014_Interview-.transcript.vtt',\n",
    "                    views = ['./GMT20201216-141014_Interview-_640x360.mp4', './GMT20201216-141014_Interview-_640x360.mp4']\n",
    "                  )\n",
    "w"
   ]
  },
  {
   "cell_type": "code",
   "execution_count": 6,
   "metadata": {},
   "outputs": [
    {
     "data": {
      "text/html": [
       "<div>\n",
       "<style scoped>\n",
       "    .dataframe tbody tr th:only-of-type {\n",
       "        vertical-align: middle;\n",
       "    }\n",
       "\n",
       "    .dataframe tbody tr th {\n",
       "        vertical-align: top;\n",
       "    }\n",
       "\n",
       "    .dataframe thead th {\n",
       "        text-align: right;\n",
       "    }\n",
       "</style>\n",
       "<table border=\"1\" class=\"dataframe\">\n",
       "  <thead>\n",
       "    <tr style=\"text-align: right;\">\n",
       "      <th></th>\n",
       "      <th>value</th>\n",
       "      <th>type</th>\n",
       "      <th>id</th>\n",
       "      <th>start</th>\n",
       "      <th>end</th>\n",
       "      <th>src</th>\n",
       "      <th>author</th>\n",
       "    </tr>\n",
       "  </thead>\n",
       "  <tbody>\n",
       "    <tr>\n",
       "      <th>0</th>\n",
       "      <td>None</td>\n",
       "      <td>comment</td>\n",
       "      <td>wavesurfer_lav6mob5m6g</td>\n",
       "      <td>295.584042</td>\n",
       "      <td>411.786755</td>\n",
       "      <td>./GMT20201216-141014_Interview-_640x360.mp4</td>\n",
       "      <td>testuser</td>\n",
       "    </tr>\n",
       "    <tr>\n",
       "      <th>1</th>\n",
       "      <td>None</td>\n",
       "      <td>comment</td>\n",
       "      <td>wavesurfer_3kc1lrfs1jg</td>\n",
       "      <td>434.768422</td>\n",
       "      <td>536.791078</td>\n",
       "      <td>./GMT20201216-141014_Interview-_640x360.mp4</td>\n",
       "      <td>testuser</td>\n",
       "    </tr>\n",
       "    <tr>\n",
       "      <th>2</th>\n",
       "      <td>None</td>\n",
       "      <td>comment</td>\n",
       "      <td>wavesurfer_66r6r2g972</td>\n",
       "      <td>683.823729</td>\n",
       "      <td>770.843053</td>\n",
       "      <td>./GMT20201216-141014_Interview-_640x360.mp4</td>\n",
       "      <td>testuser</td>\n",
       "    </tr>\n",
       "    <tr>\n",
       "      <th>3</th>\n",
       "      <td>None</td>\n",
       "      <td>comment</td>\n",
       "      <td>wavesurfer_dmqv2vbinvg</td>\n",
       "      <td>841.858823</td>\n",
       "      <td>906.873261</td>\n",
       "      <td>./GMT20201216-141014_Interview-_640x360.mp4</td>\n",
       "      <td>testuser</td>\n",
       "    </tr>\n",
       "    <tr>\n",
       "      <th>4</th>\n",
       "      <td>test</td>\n",
       "      <td>tag</td>\n",
       "      <td>wavesurfer_a1bni4gvn4o</td>\n",
       "      <td>949.882812</td>\n",
       "      <td>1010.896361</td>\n",
       "      <td>./GMT20201216-141014_Interview-_640x360.mp4</td>\n",
       "      <td>testuser</td>\n",
       "    </tr>\n",
       "    <tr>\n",
       "      <th>5</th>\n",
       "      <td>garbage</td>\n",
       "      <td>tag</td>\n",
       "      <td>wavesurfer_a1bni4gvn4o</td>\n",
       "      <td>949.882812</td>\n",
       "      <td>1010.896361</td>\n",
       "      <td>./GMT20201216-141014_Interview-_640x360.mp4</td>\n",
       "      <td>testuser</td>\n",
       "    </tr>\n",
       "    <tr>\n",
       "      <th>6</th>\n",
       "      <td>NaN</td>\n",
       "      <td>comment</td>\n",
       "      <td>wavesurfer_a1bni4gvn4o</td>\n",
       "      <td>949.882812</td>\n",
       "      <td>1010.896361</td>\n",
       "      <td>./GMT20201216-141014_Interview-_640x360.mp4</td>\n",
       "      <td>testuser</td>\n",
       "    </tr>\n",
       "    <tr>\n",
       "      <th>7</th>\n",
       "      <td>person</td>\n",
       "      <td>tag</td>\n",
       "      <td>wavesurfer_be451ase7lg</td>\n",
       "      <td>1070.909688</td>\n",
       "      <td>1131.923237</td>\n",
       "      <td>./GMT20201216-141014_Interview-_640x360.mp4</td>\n",
       "      <td>testuser</td>\n",
       "    </tr>\n",
       "    <tr>\n",
       "      <th>8</th>\n",
       "      <td>dog</td>\n",
       "      <td>tag</td>\n",
       "      <td>wavesurfer_be451ase7lg</td>\n",
       "      <td>1070.909688</td>\n",
       "      <td>1131.923237</td>\n",
       "      <td>./GMT20201216-141014_Interview-_640x360.mp4</td>\n",
       "      <td>testuser</td>\n",
       "    </tr>\n",
       "    <tr>\n",
       "      <th>9</th>\n",
       "      <td>NaN</td>\n",
       "      <td>comment</td>\n",
       "      <td>wavesurfer_be451ase7lg</td>\n",
       "      <td>1070.909688</td>\n",
       "      <td>1131.923237</td>\n",
       "      <td>./GMT20201216-141014_Interview-_640x360.mp4</td>\n",
       "      <td>testuser</td>\n",
       "    </tr>\n",
       "  </tbody>\n",
       "</table>\n",
       "</div>"
      ],
      "text/plain": [
       "     value     type                      id        start          end  \\\n",
       "0     None  comment  wavesurfer_lav6mob5m6g   295.584042   411.786755   \n",
       "1     None  comment  wavesurfer_3kc1lrfs1jg   434.768422   536.791078   \n",
       "2     None  comment   wavesurfer_66r6r2g972   683.823729   770.843053   \n",
       "3     None  comment  wavesurfer_dmqv2vbinvg   841.858823   906.873261   \n",
       "4     test      tag  wavesurfer_a1bni4gvn4o   949.882812  1010.896361   \n",
       "5  garbage      tag  wavesurfer_a1bni4gvn4o   949.882812  1010.896361   \n",
       "6      NaN  comment  wavesurfer_a1bni4gvn4o   949.882812  1010.896361   \n",
       "7   person      tag  wavesurfer_be451ase7lg  1070.909688  1131.923237   \n",
       "8      dog      tag  wavesurfer_be451ase7lg  1070.909688  1131.923237   \n",
       "9      NaN  comment  wavesurfer_be451ase7lg  1070.909688  1131.923237   \n",
       "\n",
       "                                           src    author  \n",
       "0  ./GMT20201216-141014_Interview-_640x360.mp4  testuser  \n",
       "1  ./GMT20201216-141014_Interview-_640x360.mp4  testuser  \n",
       "2  ./GMT20201216-141014_Interview-_640x360.mp4  testuser  \n",
       "3  ./GMT20201216-141014_Interview-_640x360.mp4  testuser  \n",
       "4  ./GMT20201216-141014_Interview-_640x360.mp4  testuser  \n",
       "5  ./GMT20201216-141014_Interview-_640x360.mp4  testuser  \n",
       "6  ./GMT20201216-141014_Interview-_640x360.mp4  testuser  \n",
       "7  ./GMT20201216-141014_Interview-_640x360.mp4  testuser  \n",
       "8  ./GMT20201216-141014_Interview-_640x360.mp4  testuser  \n",
       "9  ./GMT20201216-141014_Interview-_640x360.mp4  testuser  "
      ]
     },
     "execution_count": 6,
     "metadata": {},
     "output_type": "execute_result"
    }
   ],
   "source": [
    "w.df"
   ]
  },
  {
   "cell_type": "code",
   "execution_count": null,
   "metadata": {},
   "outputs": [],
   "source": [
    "a.to_json('test_df.json', orient='records')"
   ]
  },
  {
   "cell_type": "code",
   "execution_count": null,
   "metadata": {},
   "outputs": [],
   "source": [
    "a"
   ]
  },
  {
   "cell_type": "code",
   "execution_count": null,
   "metadata": {},
   "outputs": [],
   "source": [
    "kp = {'id':int(random.random()*1000),\n",
    "      'start':'0',\n",
    "      'end':'10',\n",
    "      'type':'tag',\n",
    "      'value':'trash',\n",
    "      'author':'ilan',\n",
    "      'src': 'vid1'\n",
    "     }\n",
    "kp"
   ]
  },
  {
   "cell_type": "code",
   "execution_count": null,
   "metadata": {},
   "outputs": [],
   "source": [
    "d = [{'id':int(random.random()*1000),\n",
    "      'start':'0',\n",
    "      'end':'10',\n",
    "      'type':'tag',\n",
    "      'value':'trash',\n",
    "      'author':'ilan',\n",
    "      'src': 'vid1'\n",
    "     } for i in range(10)]"
   ]
  },
  {
   "cell_type": "code",
   "execution_count": null,
   "metadata": {},
   "outputs": [],
   "source": [
    "t = pd.DataFrame(d)"
   ]
  },
  {
   "cell_type": "code",
   "execution_count": null,
   "metadata": {},
   "outputs": [],
   "source": [
    "t"
   ]
  },
  {
   "cell_type": "code",
   "execution_count": null,
   "metadata": {},
   "outputs": [],
   "source": [
    "t.to_json(orient='records')"
   ]
  },
  {
   "cell_type": "code",
   "execution_count": null,
   "metadata": {},
   "outputs": [],
   "source": [
    "isinstance(t, pd.DataFrame)"
   ]
  },
  {
   "cell_type": "code",
   "execution_count": null,
   "metadata": {},
   "outputs": [],
   "source": [
    "pd.DataFrame(columns=['hi', 'bye'])"
   ]
  },
  {
   "cell_type": "code",
   "execution_count": null,
   "metadata": {},
   "outputs": [],
   "source": [
    "w.get_state()"
   ]
  },
  {
   "cell_type": "code",
   "execution_count": null,
   "metadata": {},
   "outputs": [],
   "source": []
  }
 ],
 "metadata": {
  "kernelspec": {
   "display_name": "vanity_env",
   "language": "python",
   "name": "vanity_env"
  },
  "language_info": {
   "codemirror_mode": {
    "name": "ipython",
    "version": 3
   },
   "file_extension": ".py",
   "mimetype": "text/x-python",
   "name": "python",
   "nbconvert_exporter": "python",
   "pygments_lexer": "ipython3",
   "version": "3.9.5"
  }
 },
 "nbformat": 4,
 "nbformat_minor": 4
}
