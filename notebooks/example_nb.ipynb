{
 "cells": [
  {
   "cell_type": "markdown",
   "metadata": {},
   "source": [
    "The package is called vanity. Importing it should increase the width of your jupyter notebook  \n",
    "Change the `demo_vid_src` to the path to a video in your directory"
   ]
  },
  {
   "cell_type": "code",
   "execution_count": 1,
   "metadata": {},
   "outputs": [],
   "source": [
    "import vanity\n",
    "demo_vid_src='bbb_sunflower_1080p_30fps_stereo_abl.mp4'"
   ]
  },
  {
   "cell_type": "code",
   "execution_count": 2,
   "metadata": {},
   "outputs": [
    {
     "data": {
      "application/vnd.jupyter.widget-view+json": {
       "model_id": "0c62f7aa80fe4e45bec382f555c30b2a",
       "version_major": 2,
       "version_minor": 0
      },
      "text/plain": [
       "IntSlider(value=0)"
      ]
     },
     "metadata": {},
     "output_type": "display_data"
    }
   ],
   "source": [
    "import ipywidgets as widgets\n",
    "widgets.IntSlider()"
   ]
  },
  {
   "cell_type": "markdown",
   "metadata": {},
   "source": [
    "This will create a multiview with three copies of your `demo_vid_src`. The main view from `src` and the two copies from `vids`"
   ]
  },
  {
   "cell_type": "code",
   "execution_count": 3,
   "metadata": {
    "scrolled": true
   },
   "outputs": [
    {
     "data": {
      "application/vnd.jupyter.widget-view+json": {
       "model_id": "5a68288caf6e4837908ad2a782e5554b",
       "version_major": 2,
       "version_minor": 0
      },
      "text/plain": [
       "Multiview(src='bbb_sunflower_1080p_30fps_stereo_abl.mp4', tags=['tag1', 'tag2', 'tag3'], vids=['bbb_sunflower_…"
      ]
     },
     "metadata": {},
     "output_type": "display_data"
    }
   ],
   "source": [
    "vids=[demo_vid_src]*2\n",
    "a = vanity.Multiview(src=demo_vid_src, \n",
    "                     vids=vids, \n",
    "                     tags=['tag1','tag2','tag3'])\n",
    "a"
   ]
  },
  {
   "cell_type": "markdown",
   "metadata": {},
   "source": [
    "Above is the multiview dashboard. the \"2x>>\" will play at 2 times speed. \"1x>>\" will return it to normal speed. Tags are labels you might want to keep track of. The textbox on the bottom is for additional notes to keep track of. If you don't set a specific start time it will be the current time when you hit \"Add Note\". Annotations are clickable and will seek the video to that time."
   ]
  },
  {
   "cell_type": "markdown",
   "metadata": {},
   "source": [
    "reassigning the `src` will replace the main video and clear the data view pane"
   ]
  },
  {
   "cell_type": "code",
   "execution_count": 4,
   "metadata": {},
   "outputs": [
    {
     "data": {
      "text/plain": [
       "'bbb_sunflower_1080p_30fps_stereo_abl.mp4'"
      ]
     },
     "execution_count": 4,
     "metadata": {},
     "output_type": "execute_result"
    }
   ],
   "source": [
    "a.src\n",
    "# a.src=alternative_vid_path\n"
   ]
  },
  {
   "cell_type": "markdown",
   "metadata": {},
   "source": [
    "To reset the dataviews you need to reset the entire `.vids` attribute. Assiging elements within the array such as `a.vids[1]=alternative_vid_src` will not work. "
   ]
  },
  {
   "cell_type": "code",
   "execution_count": 5,
   "metadata": {},
   "outputs": [
    {
     "data": {
      "text/plain": [
       "['bbb_sunflower_1080p_30fps_stereo_abl.mp4',\n",
       " 'bbb_sunflower_1080p_30fps_stereo_abl.mp4']"
      ]
     },
     "execution_count": 5,
     "metadata": {},
     "output_type": "execute_result"
    }
   ],
   "source": [
    "a.vids\n",
    "# the correct way to do it:\n",
    "# a.vids=[alternative_vid1, alternative_vid2, alternative_vid3]"
   ]
  },
  {
   "cell_type": "markdown",
   "metadata": {},
   "source": [
    "An example of how to attach a callback that is called each time when a note is added"
   ]
  },
  {
   "cell_type": "code",
   "execution_count": 6,
   "metadata": {},
   "outputs": [
    {
     "data": {
      "application/vnd.jupyter.widget-view+json": {
       "model_id": "1cec5fec8e244409908d4c46db3d4fe4",
       "version_major": 2,
       "version_minor": 0
      },
      "text/plain": [
       "Multiview(src='bbb_sunflower_1080p_30fps_normal.mp4', tags=['tag1', 'tag2', 'tag3'], vids=['bbb_sunflower_1080…"
      ]
     },
     "metadata": {},
     "output_type": "display_data"
    }
   ],
   "source": [
    "def printy_callback(thing1, thing2):\n",
    "    print(f\"demo of how to attach a callback with args (or kwargs) {thing1} and {thing2}\")\n",
    "\n",
    "b = vanity.Multiview(src='bbb_sunflower_1080p_30fps_normal.mp4', \n",
    "                     vids=vids, \n",
    "                     tags=['tag1','tag2','tag3'], callback=printy_callback, callbackArgs=['hi','bye'])\n",
    "b\n",
    "        "
   ]
  },
  {
   "cell_type": "markdown",
   "metadata": {},
   "source": [
    "each multiview object keeps an up to date pandas dataframe with it"
   ]
  },
  {
   "cell_type": "code",
   "execution_count": 7,
   "metadata": {},
   "outputs": [
    {
     "data": {
      "text/plain": [
       "[]"
      ]
     },
     "execution_count": 7,
     "metadata": {},
     "output_type": "execute_result"
    }
   ],
   "source": [
    "a.keypoints"
   ]
  },
  {
   "cell_type": "markdown",
   "metadata": {},
   "source": [
    "A multiview without a list of vids will fullscreen for that object"
   ]
  },
  {
   "cell_type": "code",
   "execution_count": 8,
   "metadata": {},
   "outputs": [
    {
     "data": {
      "application/vnd.jupyter.widget-view+json": {
       "model_id": "45232ca87caf4533b67d096418d536cc",
       "version_major": 2,
       "version_minor": 0
      },
      "text/plain": [
       "Multiview(src='bbb_sunflower_1080p_30fps_stereo_abl.mp4', tags=['tag1', 'tag2', 'tag3'])"
      ]
     },
     "metadata": {},
     "output_type": "display_data"
    }
   ],
   "source": [
    "c = vanity.Multiview(src=demo_vid_src, \n",
    "                     tags=['tag1','tag2','tag3'])\n",
    "c"
   ]
  },
  {
   "cell_type": "code",
   "execution_count": 9,
   "metadata": {},
   "outputs": [
    {
     "data": {
      "application/vnd.jupyter.widget-view+json": {
       "model_id": "179ea74d024f4311865e6b6963c94123",
       "version_major": 2,
       "version_minor": 0
      },
      "text/plain": [
       "Multiview(author='ilan', src='bbb_sunflower_1080p_30fps_stereo_abl.mp4', tags=['tag1', 'tag2', 'tag3'])"
      ]
     },
     "metadata": {},
     "output_type": "display_data"
    }
   ],
   "source": [
    "c = vanity.Multiview(src=demo_vid_src, \n",
    "                     tags=['tag1','tag2','tag3'], author='ilan')\n",
    "c"
   ]
  },
  {
   "cell_type": "code",
   "execution_count": 10,
   "metadata": {},
   "outputs": [
    {
     "data": {
      "text/plain": [
       "'ilan'"
      ]
     },
     "execution_count": 10,
     "metadata": {},
     "output_type": "execute_result"
    }
   ],
   "source": [
    "c.author"
   ]
  },
  {
   "cell_type": "code",
   "execution_count": 11,
   "metadata": {},
   "outputs": [
    {
     "data": {
      "text/html": [
       "<div>\n",
       "<style scoped>\n",
       "    .dataframe tbody tr th:only-of-type {\n",
       "        vertical-align: middle;\n",
       "    }\n",
       "\n",
       "    .dataframe tbody tr th {\n",
       "        vertical-align: top;\n",
       "    }\n",
       "\n",
       "    .dataframe thead th {\n",
       "        text-align: right;\n",
       "    }\n",
       "</style>\n",
       "<table border=\"1\" class=\"dataframe\">\n",
       "  <thead>\n",
       "    <tr style=\"text-align: right;\">\n",
       "      <th></th>\n",
       "    </tr>\n",
       "  </thead>\n",
       "  <tbody>\n",
       "  </tbody>\n",
       "</table>\n",
       "</div>"
      ],
      "text/plain": [
       "Empty DataFrame\n",
       "Columns: []\n",
       "Index: []"
      ]
     },
     "execution_count": 11,
     "metadata": {},
     "output_type": "execute_result"
    }
   ],
   "source": [
    "c.df"
   ]
  },
  {
   "cell_type": "code",
   "execution_count": null,
   "metadata": {},
   "outputs": [],
   "source": []
  },
  {
   "cell_type": "code",
   "execution_count": null,
   "metadata": {},
   "outputs": [],
   "source": []
  }
 ],
 "metadata": {
  "kernelspec": {
   "display_name": "Python 3",
   "language": "python",
   "name": "python3"
  },
  "language_info": {
   "codemirror_mode": {
    "name": "ipython",
    "version": 3
   },
   "file_extension": ".py",
   "mimetype": "text/x-python",
   "name": "python",
   "nbconvert_exporter": "python",
   "pygments_lexer": "ipython3",
   "version": "3.6.10"
  }
 },
 "nbformat": 4,
 "nbformat_minor": 4
}
