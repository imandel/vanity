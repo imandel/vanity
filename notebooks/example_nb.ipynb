{
 "cells": [
  {
   "cell_type": "code",
   "execution_count": 3,
   "metadata": {},
   "outputs": [],
   "source": [
    "import vanity\n",
    "demo_vid_src='BigBuckBunny.mp4'"
   ]
  },
  {
   "cell_type": "code",
   "execution_count": 1,
   "metadata": {},
   "outputs": [
    {
     "name": "stdout",
     "output_type": "stream",
     "text": [
      "  % Total    % Received % Xferd  Average Speed   Time    Time     Time  Current\n",
      "                                 Dload  Upload   Total   Spent    Left  Speed\n",
      "100  150M  100  150M    0     0  1414k      0  0:01:49  0:01:49 --:--:-- 1121k0:02:35  276k16k:53  0:01:24  0:00:29 2059k\n"
     ]
    }
   ],
   "source": [
    "!curl -O http://commondatastorage.googleapis.com/gtv-videos-bucket/sample/BigBuckBunny.mp4"
   ]
  },
  {
   "cell_type": "markdown",
   "metadata": {},
   "source": [
    "This will create a multiview with three copies of your `demo_vid_src`. The main view from `src` and the two copies from `vids`"
   ]
  },
  {
   "cell_type": "code",
   "execution_count": 9,
   "metadata": {
    "scrolled": false
   },
   "outputs": [
    {
     "data": {
      "application/vnd.jupyter.widget-view+json": {
       "model_id": "87aff40d55064ffe83b748fc92ee41d2",
       "version_major": 2,
       "version_minor": 0
      },
      "text/plain": [
       "Multiview(author='julia', src='BigBuckBunny.mp4', subtitles='farWoz_2019-07-01_small.vtt', tags=['tag1', 'tag2…"
      ]
     },
     "metadata": {},
     "output_type": "display_data"
    }
   ],
   "source": [
    "vids=[demo_vid_src]*2\n",
    "a = vanity.Multiview(src=demo_vid_src, \n",
    "                     vids=vids, \n",
    "                     tags=['tag1','tag2','tag3'], \n",
    "                     author='name', \n",
    "                     subtitles='farWoz_2019-07-01_small.vtt')\n",
    "a"
   ]
  },
  {
   "cell_type": "markdown",
   "metadata": {},
   "source": [
    "Above is the multiview dashboard. the \"2x>>\" will play at 2 times speed. \"1x>>\" will return it to normal speed. Tags are labels you might want to keep track of. The textbox on the bottom is for additional notes to keep track of. If you don't set a specific start time it will be the current time when you hit \"Add Note\". Annotations are clickable and will seek the video to that time."
   ]
  },
  {
   "cell_type": "markdown",
   "metadata": {},
   "source": [
    "reassigning the `src` will replace the main video and clear the data view pane"
   ]
  },
  {
   "cell_type": "code",
   "execution_count": 4,
   "metadata": {},
   "outputs": [],
   "source": [
    "a.src\n",
    "a.src=demo_vid_src1\n"
   ]
  },
  {
   "cell_type": "markdown",
   "metadata": {},
   "source": [
    "To reset the dataviews you need to reset the entire `.vids` attribute. Assiging elements within the array such as `a.vids[1]=alternative_vid_src` will not work. "
   ]
  },
  {
   "cell_type": "code",
   "execution_count": 5,
   "metadata": {},
   "outputs": [
    {
     "data": {
      "text/plain": [
       "['bbb_sunflower_1080p_30fps_stereo_abl.mp4',\n",
       " 'bbb_sunflower_1080p_30fps_stereo_abl.mp4']"
      ]
     },
     "execution_count": 5,
     "metadata": {},
     "output_type": "execute_result"
    }
   ],
   "source": [
    "a.vids\n",
    "# the correct way to do it:\n",
    "# a.vids=[alternative_vid1, alternative_vid2, alternative_vid3]"
   ]
  },
  {
   "cell_type": "markdown",
   "metadata": {},
   "source": [
    "An example of how to attach a callback that is called each time when a note is added"
   ]
  },
  {
   "cell_type": "code",
   "execution_count": 6,
   "metadata": {
    "scrolled": false
   },
   "outputs": [
    {
     "data": {
      "application/vnd.jupyter.widget-view+json": {
       "model_id": "5d9f6cdde59f4c19963e3fa34ec291fe",
       "version_major": 2,
       "version_minor": 0
      },
      "text/plain": [
       "Multiview(src='bbb_sunflower_1080p_30fps_stereo_abl', tags=['tag1', 'tag2', 'tag3'], vids=['bbb_sunflower_1080…"
      ]
     },
     "metadata": {},
     "output_type": "display_data"
    }
   ],
   "source": [
    "def printy_callback(thing1, thing2):\n",
    "    print(f\"demo of how to attach a callback with args (or kwargs) {thing1} and {thing2}\")\n",
    "\n",
    "b = vanity.Multiview(src='bbb_sunflower_1080p_30fps_stereo_abl', \n",
    "                     vids=vids, \n",
    "                     tags=['tag1','tag2','tag3'], callback=printy_callback, callbackArgs=['hi','bye'])\n",
    "b\n",
    "        "
   ]
  },
  {
   "cell_type": "markdown",
   "metadata": {},
   "source": [
    "each multiview object keeps an up to date pandas dataframe with it"
   ]
  },
  {
   "cell_type": "code",
   "execution_count": 5,
   "metadata": {},
   "outputs": [
    {
     "data": {
      "text/plain": [
       "[{'src': 'BigBuckBunny.mp4',\n",
       "  'start': 164.254,\n",
       "  'end': 263.349,\n",
       "  'tags': ['tag1', 'tag3'],\n",
       "  'comments': 'funny\\n',\n",
       "  'author': ''}]"
      ]
     },
     "execution_count": 5,
     "metadata": {},
     "output_type": "execute_result"
    }
   ],
   "source": [
    "a.keypoints"
   ]
  },
  {
   "cell_type": "code",
   "execution_count": 6,
   "metadata": {},
   "outputs": [
    {
     "data": {
      "text/html": [
       "<div>\n",
       "<style scoped>\n",
       "    .dataframe tbody tr th:only-of-type {\n",
       "        vertical-align: middle;\n",
       "    }\n",
       "\n",
       "    .dataframe tbody tr th {\n",
       "        vertical-align: top;\n",
       "    }\n",
       "\n",
       "    .dataframe thead th {\n",
       "        text-align: right;\n",
       "    }\n",
       "</style>\n",
       "<table border=\"1\" class=\"dataframe\">\n",
       "  <thead>\n",
       "    <tr style=\"text-align: right;\">\n",
       "      <th></th>\n",
       "      <th>src</th>\n",
       "      <th>start</th>\n",
       "      <th>end</th>\n",
       "      <th>tags</th>\n",
       "      <th>comments</th>\n",
       "      <th>author</th>\n",
       "    </tr>\n",
       "  </thead>\n",
       "  <tbody>\n",
       "    <tr>\n",
       "      <th>0</th>\n",
       "      <td>BigBuckBunny.mp4</td>\n",
       "      <td>164.254</td>\n",
       "      <td>263.349</td>\n",
       "      <td>[tag1, tag3]</td>\n",
       "      <td>funny\\n</td>\n",
       "      <td></td>\n",
       "    </tr>\n",
       "  </tbody>\n",
       "</table>\n",
       "</div>"
      ],
      "text/plain": [
       "                src    start      end          tags comments author\n",
       "0  BigBuckBunny.mp4  164.254  263.349  [tag1, tag3]  funny\\n       "
      ]
     },
     "execution_count": 6,
     "metadata": {},
     "output_type": "execute_result"
    }
   ],
   "source": [
    "a.df"
   ]
  },
  {
   "cell_type": "markdown",
   "metadata": {},
   "source": [
    "A multiview without a list of vids will fullscreen for that object"
   ]
  },
  {
   "cell_type": "code",
   "execution_count": 8,
   "metadata": {
    "scrolled": false
   },
   "outputs": [
    {
     "data": {
      "application/vnd.jupyter.widget-view+json": {
       "model_id": "500d822848404172854e6f90553b8822",
       "version_major": 2,
       "version_minor": 0
      },
      "text/plain": [
       "Multiview(src='bbb_sunflower_1080p_30fps_stereo_abl.mp4', tags=['tag1', 'tag2', 'tag3'])"
      ]
     },
     "metadata": {},
     "output_type": "display_data"
    }
   ],
   "source": [
    "c = vanity.Multiview(src=demo_vid_src, \n",
    "                     tags=['tag1','tag2','tag3'])\n",
    "c"
   ]
  },
  {
   "cell_type": "code",
   "execution_count": 9,
   "metadata": {
    "scrolled": true
   },
   "outputs": [
    {
     "data": {
      "application/vnd.jupyter.widget-view+json": {
       "model_id": "562a5974e79d41e1b3df9db69cb6b9b4",
       "version_major": 2,
       "version_minor": 0
      },
      "text/plain": [
       "Multiview(author='ilan', src='bbb_sunflower_1080p_30fps_stereo_abl.mp4', tags=['tag1', 'tag2', 'tag3'])"
      ]
     },
     "metadata": {},
     "output_type": "display_data"
    }
   ],
   "source": [
    "c = vanity.Multiview(src=demo_vid_src, \n",
    "                     tags=['tag1','tag2','tag3'], author='ilan')\n",
    "c"
   ]
  },
  {
   "cell_type": "code",
   "execution_count": 10,
   "metadata": {},
   "outputs": [
    {
     "data": {
      "text/plain": [
       "'ilan'"
      ]
     },
     "execution_count": 10,
     "metadata": {},
     "output_type": "execute_result"
    }
   ],
   "source": [
    "c.author"
   ]
  },
  {
   "cell_type": "code",
   "execution_count": 11,
   "metadata": {},
   "outputs": [
    {
     "data": {
      "text/html": [
       "<div>\n",
       "<style scoped>\n",
       "    .dataframe tbody tr th:only-of-type {\n",
       "        vertical-align: middle;\n",
       "    }\n",
       "\n",
       "    .dataframe tbody tr th {\n",
       "        vertical-align: top;\n",
       "    }\n",
       "\n",
       "    .dataframe thead th {\n",
       "        text-align: right;\n",
       "    }\n",
       "</style>\n",
       "<table border=\"1\" class=\"dataframe\">\n",
       "  <thead>\n",
       "    <tr style=\"text-align: right;\">\n",
       "      <th></th>\n",
       "    </tr>\n",
       "  </thead>\n",
       "  <tbody>\n",
       "  </tbody>\n",
       "</table>\n",
       "</div>"
      ],
      "text/plain": [
       "Empty DataFrame\n",
       "Columns: []\n",
       "Index: []"
      ]
     },
     "execution_count": 11,
     "metadata": {},
     "output_type": "execute_result"
    }
   ],
   "source": [
    "c.df"
   ]
  },
  {
   "cell_type": "code",
   "execution_count": null,
   "metadata": {},
   "outputs": [],
   "source": []
  },
  {
   "cell_type": "code",
   "execution_count": null,
   "metadata": {},
   "outputs": [],
   "source": []
  },
  {
   "cell_type": "code",
   "execution_count": null,
   "metadata": {},
   "outputs": [],
   "source": []
  }
 ],
 "metadata": {
  "kernelspec": {
   "display_name": "Python 3",
   "language": "python",
   "name": "python3"
  },
  "language_info": {
   "codemirror_mode": {
    "name": "ipython",
    "version": 3
   },
   "file_extension": ".py",
   "mimetype": "text/x-python",
   "name": "python",
   "nbconvert_exporter": "python",
   "pygments_lexer": "ipython3",
   "version": "3.8.5"
  }
 },
 "nbformat": 4,
 "nbformat_minor": 4
}
