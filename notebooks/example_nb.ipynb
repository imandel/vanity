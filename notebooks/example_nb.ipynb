{
 "cells": [
  {
   "cell_type": "code",
   "execution_count": 38,
   "metadata": {},
   "outputs": [],
   "source": [
    "import vanity"
   ]
  },
  {
   "cell_type": "code",
   "execution_count": 48,
   "metadata": {},
   "outputs": [],
   "source": [
    "vids=['bbb_sunflower_1080p_30fps_normal.mp4']*2\n",
    "def printing_callback(thing1, thing2):\n",
    "    print(f\"this works {thing1} {thing2}\")\n",
    "    \n",
    "a = vanity.Multiview(_src='bbb_sunflower_1080p_30fps_normal.mp4', _vids=vids, callback=printing_callback, callbackArgs=['hello', 'world'], _tags=['tag1','tag2','tag3'])"
   ]
  },
  {
   "cell_type": "code",
   "execution_count": 57,
   "metadata": {
    "scrolled": false
   },
   "outputs": [
    {
     "data": {
      "application/vnd.jupyter.widget-view+json": {
       "model_id": "2c307e0427c7453eb09ecca9f36b47e6",
       "version_major": 2,
       "version_minor": 0
      },
      "text/plain": [
       "Multiview()"
      ]
     },
     "metadata": {},
     "output_type": "display_data"
    }
   ],
   "source": [
    "a"
   ]
  },
  {
   "cell_type": "code",
   "execution_count": 8,
   "metadata": {},
   "outputs": [
    {
     "data": {
      "text/plain": [
       "'bbb_sunflower_1080p_30fps_normal.mp4'"
      ]
     },
     "execution_count": 8,
     "metadata": {},
     "output_type": "execute_result"
    }
   ],
   "source": [
    "a._src\n",
    "# a._vids=['bbb_sunflower_1080p_30fps_normal.mp4']*3\n"
   ]
  },
  {
   "cell_type": "code",
   "execution_count": 55,
   "metadata": {},
   "outputs": [
    {
     "data": {
      "text/plain": [
       "[{'src': 'bbb_sunflower_1080p_30fps_normal.mp4',\n",
       "  'start': 1.5274700000300072,\n",
       "  'end': 1.5274700000300072,\n",
       "  'tags': [],\n",
       "  'comments': ''},\n",
       " {'src': 'bbb_sunflower_1080p_30fps_normal.mp4',\n",
       "  'start': 13.00401,\n",
       "  'end': 13.00401,\n",
       "  'tags': [],\n",
       "  'comments': ''},\n",
       " {'src': 'bbb_sunflower_1080p_30fps_normal.mp4',\n",
       "  'start': 3.2294600000304916,\n",
       "  'end': 3.2294600000304916,\n",
       "  'tags': [],\n",
       "  'comments': ''},\n",
       " {'src': 'bbb_sunflower_1080p_30fps_normal.mp4',\n",
       "  'start': 166.73729899999208,\n",
       "  'end': 166.73729899999208,\n",
       "  'tags': [],\n",
       "  'comments': ''}]"
      ]
     },
     "execution_count": 55,
     "metadata": {},
     "output_type": "execute_result"
    }
   ],
   "source": [
    "a._keypoints"
   ]
  },
  {
   "cell_type": "code",
   "execution_count": 11,
   "metadata": {},
   "outputs": [
    {
     "data": {
      "text/html": [
       "<div>\n",
       "<style scoped>\n",
       "    .dataframe tbody tr th:only-of-type {\n",
       "        vertical-align: middle;\n",
       "    }\n",
       "\n",
       "    .dataframe tbody tr th {\n",
       "        vertical-align: top;\n",
       "    }\n",
       "\n",
       "    .dataframe thead th {\n",
       "        text-align: right;\n",
       "    }\n",
       "</style>\n",
       "<table border=\"1\" class=\"dataframe\">\n",
       "  <thead>\n",
       "    <tr style=\"text-align: right;\">\n",
       "      <th></th>\n",
       "      <th>src</th>\n",
       "      <th>start</th>\n",
       "      <th>end</th>\n",
       "      <th>tags</th>\n",
       "      <th>comments</th>\n",
       "    </tr>\n",
       "  </thead>\n",
       "  <tbody>\n",
       "    <tr>\n",
       "      <td>0</td>\n",
       "      <td>bbb_sunflower_1080p_30fps_normal.mp4</td>\n",
       "      <td>1.169085</td>\n",
       "      <td>1.169085</td>\n",
       "      <td>[]</td>\n",
       "      <td></td>\n",
       "    </tr>\n",
       "    <tr>\n",
       "      <td>1</td>\n",
       "      <td>bbb_sunflower_1080p_30fps_normal.mp4</td>\n",
       "      <td>2.996720</td>\n",
       "      <td>2.996720</td>\n",
       "      <td>[]</td>\n",
       "      <td></td>\n",
       "    </tr>\n",
       "    <tr>\n",
       "      <td>2</td>\n",
       "      <td>bbb_sunflower_1080p_30fps_normal.mp4</td>\n",
       "      <td>5.129540</td>\n",
       "      <td>5.129540</td>\n",
       "      <td>[]</td>\n",
       "      <td></td>\n",
       "    </tr>\n",
       "    <tr>\n",
       "      <td>3</td>\n",
       "      <td>bbb_sunflower_1080p_30fps_normal.mp4</td>\n",
       "      <td>22.499965</td>\n",
       "      <td>22.499965</td>\n",
       "      <td>[]</td>\n",
       "      <td></td>\n",
       "    </tr>\n",
       "  </tbody>\n",
       "</table>\n",
       "</div>"
      ],
      "text/plain": [
       "                                    src      start        end tags comments\n",
       "0  bbb_sunflower_1080p_30fps_normal.mp4   1.169085   1.169085   []         \n",
       "1  bbb_sunflower_1080p_30fps_normal.mp4   2.996720   2.996720   []         \n",
       "2  bbb_sunflower_1080p_30fps_normal.mp4   5.129540   5.129540   []         \n",
       "3  bbb_sunflower_1080p_30fps_normal.mp4  22.499965  22.499965   []         "
      ]
     },
     "execution_count": 11,
     "metadata": {},
     "output_type": "execute_result"
    }
   ],
   "source": [
    "a.df"
   ]
  },
  {
   "cell_type": "code",
   "execution_count": 7,
   "metadata": {},
   "outputs": [
    {
     "ename": "IndexError",
     "evalue": "list index out of range",
     "output_type": "error",
     "traceback": [
      "\u001b[0;31m---------------------------------------------------------------------------\u001b[0m",
      "\u001b[0;31mIndexError\u001b[0m                                Traceback (most recent call last)",
      "\u001b[0;32m<ipython-input-7-9997f2575dd3>\u001b[0m in \u001b[0;36m<module>\u001b[0;34m\u001b[0m\n\u001b[0;32m----> 1\u001b[0;31m \u001b[0ma\u001b[0m\u001b[0;34m.\u001b[0m\u001b[0m_keypoints\u001b[0m\u001b[0;34m[\u001b[0m\u001b[0;36m0\u001b[0m\u001b[0;34m]\u001b[0m\u001b[0;34m\u001b[0m\u001b[0;34m\u001b[0m\u001b[0m\n\u001b[0m",
      "\u001b[0;31mIndexError\u001b[0m: list index out of range"
     ]
    }
   ],
   "source": [
    "a._keypoints[0]"
   ]
  },
  {
   "cell_type": "code",
   "execution_count": null,
   "metadata": {},
   "outputs": [],
   "source": []
  }
 ],
 "metadata": {
  "kernelspec": {
   "display_name": "Python 3",
   "language": "python",
   "name": "python3"
  },
  "language_info": {
   "codemirror_mode": {
    "name": "ipython",
    "version": 3
   },
   "file_extension": ".py",
   "mimetype": "text/x-python",
   "name": "python",
   "nbconvert_exporter": "python",
   "pygments_lexer": "ipython3",
   "version": "3.7.6"
  }
 },
 "nbformat": 4,
 "nbformat_minor": 4
}
