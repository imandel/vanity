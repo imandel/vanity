{
 "cells": [
  {
   "cell_type": "markdown",
   "metadata": {},
   "source": [
    "The package is called vanity. Importing it should increase the width of your jupyter notebook  \n",
    "Change the `demo_vid_src` to the path to a video in your directory"
   ]
  },
  {
   "cell_type": "code",
   "execution_count": 3,
   "metadata": {},
   "outputs": [],
   "source": [
    "import vanity\n",
    "demo_vid_src='bbb_sunflower_1080p_30fps_normal.mp4'"
   ]
  },
  {
   "cell_type": "markdown",
   "metadata": {},
   "source": [
    "This will create a multiview with three copies of your `demo_vid_src`. The main view from `src` and the two copies from `vids`"
   ]
  },
  {
   "cell_type": "code",
   "execution_count": 4,
   "metadata": {},
   "outputs": [
    {
     "data": {
      "application/vnd.jupyter.widget-view+json": {
       "model_id": "60470f1f759d4176ae528f834c137b64",
       "version_major": 2,
       "version_minor": 0
      },
      "text/plain": [
       "Multiview(src='bbb_sunflower_1080p_30fps_normal.mp4', tags=['tag1', 'tag2', 'tag3'], vids=['bbb_sunflower_1080…"
      ]
     },
     "metadata": {},
     "output_type": "display_data"
    }
   ],
   "source": [
    "vids=[demo_vid_src]*2\n",
    "a = vanity.Multiview(src=demo_vid_src, \n",
    "                     vids=vids, \n",
    "                     tags=['tag1','tag2','tag3'])\n",
    "a"
   ]
  },
  {
   "cell_type": "markdown",
   "metadata": {},
   "source": [
    "Above is the multiview dashboard. the \"2x>>\" will play at 2 times speed. \"1x>>\" will return it to normal speed. Tags are labels you might want to keep track of. The textbox on the bottom is for additional notes to keep track of. If you don't set a specific start time it will be the current time when you hit \"Add Note\". Annotations are clickable and will seek the video to that time."
   ]
  },
  {
   "cell_type": "markdown",
   "metadata": {},
   "source": [
    "reassigning the `src` will replace the main video and clear the data view pane"
   ]
  },
  {
   "cell_type": "code",
   "execution_count": 3,
   "metadata": {},
   "outputs": [
    {
     "data": {
      "text/plain": [
       "'bbb_sunflower_1080p_30fps_normal.mp4'"
      ]
     },
     "execution_count": 3,
     "metadata": {},
     "output_type": "execute_result"
    }
   ],
   "source": [
    "a.src\n",
    "# a.src=alternative_vid_path\n"
   ]
  },
  {
   "cell_type": "markdown",
   "metadata": {},
   "source": [
    "To reset the dataviews you need to reset the entire `.vids` attribute. Assiging elements within the array such as `a.vids[1]=alternative_vid_src` will not work. "
   ]
  },
  {
   "cell_type": "code",
   "execution_count": 4,
   "metadata": {},
   "outputs": [
    {
     "data": {
      "text/plain": [
       "['bbb_sunflower_1080p_30fps_normal.mp4',\n",
       " 'bbb_sunflower_1080p_30fps_normal.mp4']"
      ]
     },
     "execution_count": 4,
     "metadata": {},
     "output_type": "execute_result"
    }
   ],
   "source": [
    "a.vids\n",
    "# the correct way to do it:\n",
    "# a.vids=[alternative_vid1, alternative_vid2, alternative_vid3]"
   ]
  },
  {
   "cell_type": "markdown",
   "metadata": {},
   "source": [
    "An example of how to attach a callback that is called each time when a note is added"
   ]
  },
  {
   "cell_type": "code",
   "execution_count": 5,
   "metadata": {},
   "outputs": [
    {
     "data": {
      "application/vnd.jupyter.widget-view+json": {
       "model_id": "a9f4e416dc604296bf1be80218b650d8",
       "version_major": 2,
       "version_minor": 0
      },
      "text/plain": [
       "Multiview(src='bbb_sunflower_1080p_30fps_normal.mp4', tags=['tag1', 'tag2', 'tag3'], vids=['bbb_sunflower_1080…"
      ]
     },
     "metadata": {},
     "output_type": "display_data"
    },
    {
     "name": "stdout",
     "output_type": "stream",
     "text": [
      "demo of how to attach a callback with args (or kwargs) hi and bye\n"
     ]
    }
   ],
   "source": [
    "def printy_callback(thing1, thing2):\n",
    "    print(f\"demo of how to attach a callback with args (or kwargs) {thing1} and {thing2}\")\n",
    "\n",
    "b = vanity.Multiview(src='bbb_sunflower_1080p_30fps_normal.mp4', \n",
    "                     vids=vids, \n",
    "                     tags=['tag1','tag2','tag3'], callback=printy_callback, callbackArgs=['hi','bye'])\n",
    "b\n",
    "        "
   ]
  },
  {
   "cell_type": "markdown",
   "metadata": {},
   "source": [
    "each multiview object keeps an up to date pandas dataframe with it"
   ]
  },
  {
   "cell_type": "code",
   "execution_count": 12,
   "metadata": {},
   "outputs": [
    {
     "data": {
      "text/plain": [
       "[{'src': 'bbb_sunflower_1080p_30fps_normal.mp4',\n",
       "  'start': 0,\n",
       "  'end': 0,\n",
       "  'tags': [],\n",
       "  'comments': ''},\n",
       " {'src': 'bbb_sunflower_1080p_30fps_normal.mp4',\n",
       "  'start': 197.903,\n",
       "  'end': 197.903,\n",
       "  'tags': [],\n",
       "  'comments': ''}]"
      ]
     },
     "execution_count": 12,
     "metadata": {},
     "output_type": "execute_result"
    }
   ],
   "source": [
    "a.keypoints"
   ]
  },
  {
   "cell_type": "markdown",
   "metadata": {},
   "source": [
    "A multiview without a list of vids will fullscreen for that object"
   ]
  },
  {
   "cell_type": "code",
   "execution_count": 7,
   "metadata": {},
   "outputs": [
    {
     "data": {
      "application/vnd.jupyter.widget-view+json": {
       "model_id": "978462319efd4fdbb5ac411450981a06",
       "version_major": 2,
       "version_minor": 0
      },
      "text/plain": [
       "Multiview(src='bbb_sunflower_1080p_30fps_normal.mp4', tags=['tag1', 'tag2', 'tag3'])"
      ]
     },
     "metadata": {},
     "output_type": "display_data"
    }
   ],
   "source": [
    "c = vanity.Multiview(src=demo_vid_src, \n",
    "                     tags=['tag1','tag2','tag3'])\n",
    "c"
   ]
  },
  {
   "cell_type": "code",
   "execution_count": 5,
   "metadata": {},
   "outputs": [
    {
     "data": {
      "application/vnd.jupyter.widget-view+json": {
       "model_id": "f3c202924a9b42e6abb3a91aeac0a807",
       "version_major": 2,
       "version_minor": 0
      },
      "text/plain": [
       "Multiview(author='ilan', src='bbb_sunflower_1080p_30fps_normal.mp4', tags=['tag1', 'tag2', 'tag3'])"
      ]
     },
     "metadata": {},
     "output_type": "display_data"
    }
   ],
   "source": [
    "c = vanity.Multiview(src=demo_vid_src, \n",
    "                     tags=['tag1','tag2','tag3'], author='ilan')\n",
    "c"
   ]
  },
  {
   "cell_type": "code",
   "execution_count": 6,
   "metadata": {},
   "outputs": [
    {
     "data": {
      "text/plain": [
       "'ilan'"
      ]
     },
     "execution_count": 6,
     "metadata": {},
     "output_type": "execute_result"
    }
   ],
   "source": [
    "c.author"
   ]
  },
  {
   "cell_type": "code",
   "execution_count": 8,
   "metadata": {},
   "outputs": [
    {
     "data": {
      "text/html": [
       "<div>\n",
       "<style scoped>\n",
       "    .dataframe tbody tr th:only-of-type {\n",
       "        vertical-align: middle;\n",
       "    }\n",
       "\n",
       "    .dataframe tbody tr th {\n",
       "        vertical-align: top;\n",
       "    }\n",
       "\n",
       "    .dataframe thead th {\n",
       "        text-align: right;\n",
       "    }\n",
       "</style>\n",
       "<table border=\"1\" class=\"dataframe\">\n",
       "  <thead>\n",
       "    <tr style=\"text-align: right;\">\n",
       "      <th></th>\n",
       "      <th>src</th>\n",
       "      <th>start</th>\n",
       "      <th>end</th>\n",
       "      <th>tags</th>\n",
       "      <th>comments</th>\n",
       "      <th>author</th>\n",
       "    </tr>\n",
       "  </thead>\n",
       "  <tbody>\n",
       "    <tr>\n",
       "      <td>0</td>\n",
       "      <td>bbb_sunflower_1080p_30fps_normal.mp4</td>\n",
       "      <td>1.656815</td>\n",
       "      <td>1.656815</td>\n",
       "      <td>[]</td>\n",
       "      <td></td>\n",
       "      <td>ilan</td>\n",
       "    </tr>\n",
       "    <tr>\n",
       "      <td>1</td>\n",
       "      <td>bbb_sunflower_1080p_30fps_normal.mp4</td>\n",
       "      <td>2.326345</td>\n",
       "      <td>2.326345</td>\n",
       "      <td>[]</td>\n",
       "      <td></td>\n",
       "      <td>ilan</td>\n",
       "    </tr>\n",
       "  </tbody>\n",
       "</table>\n",
       "</div>"
      ],
      "text/plain": [
       "                                    src     start       end tags comments  \\\n",
       "0  bbb_sunflower_1080p_30fps_normal.mp4  1.656815  1.656815   []            \n",
       "1  bbb_sunflower_1080p_30fps_normal.mp4  2.326345  2.326345   []            \n",
       "\n",
       "  author  \n",
       "0   ilan  \n",
       "1   ilan  "
      ]
     },
     "execution_count": 8,
     "metadata": {},
     "output_type": "execute_result"
    }
   ],
   "source": [
    "c.df"
   ]
  },
  {
   "cell_type": "code",
   "execution_count": null,
   "metadata": {},
   "outputs": [],
   "source": []
  }
 ],
 "metadata": {
  "kernelspec": {
   "display_name": "Python 3",
   "language": "python",
   "name": "python3"
  },
  "language_info": {
   "codemirror_mode": {
    "name": "ipython",
    "version": 3
   },
   "file_extension": ".py",
   "mimetype": "text/x-python",
   "name": "python",
   "nbconvert_exporter": "python",
   "pygments_lexer": "ipython3",
   "version": "3.7.6"
  }
 },
 "nbformat": 4,
 "nbformat_minor": 4
}
